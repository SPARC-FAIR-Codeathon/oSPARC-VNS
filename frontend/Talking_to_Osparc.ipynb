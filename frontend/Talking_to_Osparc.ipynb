{
 "cells": [
  {
   "cell_type": "code",
   "execution_count": null,
   "metadata": {},
   "outputs": [],
   "source": [
    "#get osparc imports\n",
    "import osparc\n",
    "from osparc.models import File, Solver, Job, JobStatus, JobInputs, JobOutputs\n",
    "from osparc.api import FilesApi, SolversApi, UsersApi\n",
    "import time #progress"
   ]
  },
  {
   "cell_type": "markdown",
   "metadata": {},
   "source": [
    "#### The API key and API secret are obatained by logging into OSPARC and generating a new key"
   ]
  },
  {
   "cell_type": "code",
   "execution_count": null,
   "metadata": {},
   "outputs": [],
   "source": [
    "#Adding the API key secret pair to environmental variables; replace \"secret\" with your API key/secret\n",
    "os.environ[\"OSPARC_API_KEY\"] = \"Secret\"\n",
    "os.environ[\"OSPARC_API_SECRET\"] = \"Secret\""
   ]
  },
  {
   "cell_type": "code",
   "execution_count": null,
   "metadata": {},
   "outputs": [],
   "source": [
    "cfg = osparc.Configuration(\n",
    "    username=os.environ[\"OSPARC_API_KEY\"],\n",
    "    password=os.environ[\"OSPARC_API_SECRET\"],\n",
    ")\n",
    "print(cfg.host)\n",
    "#Configuration used to create an instance of the API client - for talking to osparc\n"
   ]
  },
  {
   "cell_type": "code",
   "execution_count": null,
   "metadata": {},
   "outputs": [],
   "source": [
    "#priting out user information - not required\n",
    "with osparc.ApiClient(cfg) as api_client:\n",
    "\n",
    "    users_api = UsersApi(api_client)\n",
    "\n",
    "    profile = users_api.get_my_profile()\n",
    "    print(profile)"
   ]
  },
  {
   "cell_type": "code",
   "execution_count": null,
   "metadata": {
    "scrolled": false
   },
   "outputs": [],
   "source": [
    "with osparc.ApiClient(cfg) as api_client:\n",
    "\n",
    "    files_api = FilesApi(api_client)\n",
    "    #Uploading files stored locally with correct order of inputs\n",
    "    input_file_1: File = files_api.upload_file(file=\"C-FINE.json\")\n",
    "    input_file_2: File = files_api.upload_file(file=\"sub-57_sam-1.xml\")\n",
    "    input_file_3: File = files_api.upload_file(file = \"sub-57_sam-1.json\" )\n",
    "\n",
    "    solvers_api = SolversApi(api_client)\n",
    "    #Choose the correct name and version\n",
    "    solver: Solver = solvers_api.get_solver_release(\n",
    "        \"simcore/services/comp/nerve-mesh\", \"1.0.1\"\n",
    "    )\n",
    "\n",
    "    #Set up the JOB, input names must match solver   \n",
    "    job: Job = solvers_api.create_job(\n",
    "        solver.id,\n",
    "        solver.version,\n",
    "        JobInputs(\n",
    "            {\n",
    "                \"input_3\": input_file_3,\n",
    "                \"input_2\": input_file_2,\n",
    "                \"input_1\": input_file_1,\n",
    "            }\n",
    "        ),\n",
    "    )\n",
    "        \n",
    "        \n",
    "    #Status of the solver; (something wrong here; fine until here)\n",
    "    status: JobStatus = solvers_api.start_job(solver.id, solver.version, job.id)\n",
    "    while not status.stopped_at:\n",
    "        time.sleep(3)\n",
    "        status = solvers_api.inspect_job(solver.id, solver.version, job.id)\n",
    "        print(\"Solver progress\", f\"{status.progress}/100\", flush=True)\n",
    "\n",
    "    #retrieve outputs and print results\n",
    "    outputs: JobOutputs = solvers_api.get_job_outputs(solver.id, solver.version, job.id)\n",
    "\n",
    "    print(f\"Job {outputs.job_id} got these results:\")\n",
    "    for output_name, result in outputs.results.items():\n",
    "        print(output_name, \"=\", result)\n",
    "\n",
    "    results_file: File = outputs.results[\"output_1\"]\n",
    "    download_path: str = files_api.download_file(file_id=results_file.id)\n",
    "    print(Path(download_path).read_text())\n"
   ]
  },
  {
   "cell_type": "code",
   "execution_count": null,
   "metadata": {},
   "outputs": [],
   "source": []
  }
 ],
 "metadata": {
  "kernelspec": {
   "display_name": "Python 3",
   "language": "python",
   "name": "python3"
  },
  "language_info": {
   "codemirror_mode": {
    "name": "ipython",
    "version": 3
   },
   "file_extension": ".py",
   "mimetype": "text/x-python",
   "name": "python",
   "nbconvert_exporter": "python",
   "pygments_lexer": "ipython3",
   "version": "3.6.7"
  }
 },
 "nbformat": 4,
 "nbformat_minor": 2
}
